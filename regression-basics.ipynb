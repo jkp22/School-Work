{
 "cells": [
  {
   "cell_type": "markdown",
   "metadata": {},
   "source": [
    "# Regression Basics \n",
    "\n",
    "Regression is one of the most useful and popular functions in data mining and statisitc learning. \n",
    "\n",
    "Regression is aimed at building a **model** that can predict the value of y based on X. \n",
    "\n",
    "There are several key concepts related to regression: \n",
    "- **Prediction model**: There is a specific target variable y to predict. \n",
    "- **Target variable y**: the target variable is quantitative/numerical.\n",
    "- **Predictors X**: independent variables\n",
    "- **Learning what?** \n",
    "    - The **function** between predictors X and y. \n",
    "    - F(X) -> y\n",
    "- **Learning from what?**\n",
    "    - **Training set**: $(X_{train}, y_{train})$\n",
    "    - $X_{train}$: predictor variables of data points in the training set\n",
    "    - $y_{train}$: target variable of data points in the training set\n",
    "- **How accurate is the model?**\n",
    "    - **Test set**: $(X_{test}, y_{test})$ \n",
    "    - $X_{test}$: predictor variables of data points in the test set\n",
    "    - Apply the model to $X_{test}$ and output $y'_{test}$, **predicted** values. \n",
    "    - $y_{test}$: **actual** values of data points in the test set, hidden from the model\n",
    "    - Evaluation by comparing $y_{test}$ and $y'_{test}$\n",
    "- **Evaluation metrics**: \n",
    "    - $R^2$\n",
    "    - Mean squared error (MSE)\n",
    "    - Root mean sqaured error (RMSE)"
   ]
  },
  {
   "cell_type": "code",
   "execution_count": 1,
   "metadata": {},
   "outputs": [],
   "source": [
    "import numpy as np\n",
    "import pandas as pd\n",
    "\n",
    "import matplotlib.pyplot as plt\n",
    "%matplotlib inline \n",
    "plt.style.use('seaborn') \n",
    "\n",
    "import seaborn as sns"
   ]
  },
  {
   "cell_type": "code",
   "execution_count": 2,
   "metadata": {},
   "outputs": [
    {
     "data": {
      "text/plain": [
       "[<matplotlib.lines.Line2D at 0x189207e92b0>]"
      ]
     },
     "execution_count": 2,
     "metadata": {},
     "output_type": "execute_result"
    },
    {
     "data": {
      "image/png": "[encoded data removed]",
      "text/plain": [
       "<Figure size 576x396 with 1 Axes>"
      ]
     },
     "metadata": {},
     "output_type": "display_data"
    }
   ],
   "source": [
    "# let's generate some linear-looking data\n",
    "# the underlying true model is y = 5 + 3x\n",
    "\n",
    "# fix the random seed so that each run generates the same set of random numbers\n",
    "np.random.seed(1) \n",
    "# generate 100 random numbers between 0 and 2 with shape (100, 1)\n",
    "X = 2 * np.random.rand(100, 1)  \n",
    "# generate 100 random numbers from a normal distribution\n",
    "y = 5 + 3 * X + np.random.randn(100, 1)  \n",
    "\n",
    "fig, ax = plt.subplots()\n",
    "ax.plot(X, y, \".\")\n",
    "ax.plot(X, 5+3*X)"
   ]
  },
  {
   "cell_type": "code",
   "execution_count": 3,
   "metadata": {},
   "outputs": [],
   "source": [
    "# Use sklearn for linear regression\n",
    "from sklearn.linear_model import LinearRegression"
   ]
  },
  {
   "cell_type": "code",
   "execution_count": 4,
   "metadata": {},
   "outputs": [
    {
     "data": {
      "text/plain": [
       "LinearRegression()"
      ]
     },
     "execution_count": 4,
     "metadata": {},
     "output_type": "execute_result"
    }
   ],
   "source": [
    "lr = LinearRegression()\n",
    "lr.fit(X, y) # use the normal equation to train the model"
   ]
  },
  {
   "cell_type": "code",
   "execution_count": 5,
   "metadata": {},
   "outputs": [
    {
     "name": "stdout",
     "output_type": "stream",
     "text": [
      "[5.23695725] [[2.84246254]]\n"
     ]
    }
   ],
   "source": [
    "# linear regression results using sklearn\n",
    "# print out the intercept and coefficient(s)\n",
    "print(lr.intercept_, lr.coef_)"
   ]
  },
  {
   "cell_type": "code",
   "execution_count": 6,
   "metadata": {},
   "outputs": [
    {
     "data": {
      "text/plain": [
       "(5.2369572541489084, 2.8424625438276605)"
      ]
     },
     "execution_count": 6,
     "metadata": {},
     "output_type": "execute_result"
    }
   ],
   "source": [
    "a0 = lr.intercept_[0]\n",
    "a1 = lr.coef_[0,0]\n",
    "(a0,a1)"
   ]
  },
  {
   "cell_type": "code",
   "execution_count": 7,
   "metadata": {},
   "outputs": [
    {
     "data": {
      "text/plain": [
       "<matplotlib.legend.Legend at 0x1892106d580>"
      ]
     },
     "execution_count": 7,
     "metadata": {},
     "output_type": "execute_result"
    },
    {
     "data": {
      "image/png": "[encoded data removed]",
      "text/plain": [
       "<Figure size 576x396 with 1 Axes>"
      ]
     },
     "metadata": {},
     "output_type": "display_data"
    }
   ],
   "source": [
    "# Plot both the real model and the fitted model in the same graph\n",
    "fig, ax = plt.subplots()\n",
    "ax.plot(X, y, \".\")\n",
    "ax.plot(X, 5+3*X, label='real')\n",
    "ax.plot(X, a0+a1*X, label='fitted')\n",
    "fig.legend()"
   ]
  },
  {
   "cell_type": "markdown",
   "metadata": {},
   "source": [
    "### Making predictions using the model"
   ]
  },
  {
   "cell_type": "code",
   "execution_count": 8,
   "metadata": {},
   "outputs": [
    {
     "data": {
      "text/plain": [
       "array([[6.94243478],\n",
       "       [7.79517354],\n",
       "       [8.93215856]])"
      ]
     },
     "execution_count": 8,
     "metadata": {},
     "output_type": "execute_result"
    }
   ],
   "source": [
    "# making predictions using the model\n",
    "X_new = np.array([[0.6], [0.9], [1.3]])\n",
    "y_new_pred = lr.predict(X_new)\n",
    "y_new_pred"
   ]
  },
  {
   "cell_type": "code",
   "execution_count": 9,
   "metadata": {
    "scrolled": true
   },
   "outputs": [
    {
     "data": {
      "text/plain": [
       "[<matplotlib.lines.Line2D at 0x189210dbf70>]"
      ]
     },
     "execution_count": 9,
     "metadata": {},
     "output_type": "execute_result"
    },
    {
     "data": {
      "image/png": "[encoded data removed]",
      "text/plain": [
       "<Figure size 576x396 with 1 Axes>"
      ]
     },
     "metadata": {},
     "output_type": "display_data"
    }
   ],
   "source": [
    "fig, ax = plt.subplots()\n",
    "ax.plot(X, y, \".\")\n",
    "ax.plot(X, 5+3*X)\n",
    "ax.plot(X_new, y_new_pred, 'o')"
   ]
  },
  {
   "cell_type": "code",
   "execution_count": 10,
   "metadata": {},
   "outputs": [
    {
     "name": "stdout",
     "output_type": "stream",
     "text": [
      "0.7997618656011584\n",
      "0.8942940599160649\n"
     ]
    }
   ],
   "source": [
    "# Apply the model to X in the training set\n",
    "y_pred = lr.predict(X)\n",
    "\n",
    "# calculate MSE and RMSE\n",
    "# NOTE: the RMSE is measured on the same scale with the same units as y.\n",
    "from sklearn.metrics import mean_squared_error\n",
    "\n",
    "mse = mean_squared_error(y, y_pred) \n",
    "print(mse)\n",
    "\n",
    "# Set \"squared=False\" to get RMSE\n",
    "rmse = mean_squared_error(y, y_pred, squared=False)\n",
    "print(rmse)"
   ]
  },
  {
   "cell_type": "code",
   "execution_count": 11,
   "metadata": {},
   "outputs": [
    {
     "data": {
      "text/plain": [
       "0.7778975321559937"
      ]
     },
     "execution_count": 11,
     "metadata": {},
     "output_type": "execute_result"
    }
   ],
   "source": [
    "# R^2 of the model for the training set\n",
    "lr.score(X, y)"
   ]
  },
  {
   "cell_type": "markdown",
   "metadata": {},
   "source": [
    "## OLS Regression (optional)\n",
    "\n",
    "You can do linear regression using `statsmodels` package as follows, which gives you more information (such as R-squared and p-value) from a statistics perspective.\n",
    "\n",
    "Checkout more at: https://dss.princeton.edu/online_help/analysis/interpreting_regression.htm"
   ]
  },
  {
   "cell_type": "code",
   "execution_count": 12,
   "metadata": {},
   "outputs": [],
   "source": [
    "import statsmodels.api as sm"
   ]
  },
  {
   "cell_type": "code",
   "execution_count": 13,
   "metadata": {
    "scrolled": false
   },
   "outputs": [
    {
     "name": "stdout",
     "output_type": "stream",
     "text": [
      "                            OLS Regression Results                            \n",
      "==============================================================================\n",
      "Dep. Variable:                      y   R-squared:                       0.778\n",
      "Model:                            OLS   Adj. R-squared:                  0.776\n",
      "Method:                 Least Squares   F-statistic:                     343.2\n",
      "Date:                Tue, 25 May 2021   Prob (F-statistic):           8.70e-34\n",
      "Time:                        22:33:13   Log-Likelihood:                -130.72\n",
      "No. Observations:                 100   AIC:                             265.4\n",
      "Df Residuals:                      98   BIC:                             270.7\n",
      "Df Model:                           1                                         \n",
      "Covariance Type:            nonrobust                                         \n",
      "==============================================================================\n",
      "                 coef    std err          t      P>|t|      [0.025      0.975]\n",
      "------------------------------------------------------------------------------\n",
      "const          5.2370      0.174     30.041      0.000       4.891       5.583\n",
      "x1             2.8425      0.153     18.527      0.000       2.538       3.147\n",
      "==============================================================================\n",
      "Omnibus:                        2.308   Durbin-Watson:                   2.206\n",
      "Prob(Omnibus):                  0.315   Jarque-Bera (JB):                1.753\n",
      "Skew:                          -0.189   Prob(JB):                        0.416\n",
      "Kurtosis:                       3.528   Cond. No.                         3.61\n",
      "==============================================================================\n",
      "\n",
      "Notes:\n",
      "[1] Standard Errors assume that the covariance matrix of the errors is correctly specified.\n"
     ]
    }
   ],
   "source": [
    "# if you want to see the p-value, etc. use the following code\n",
    "\n",
    "X1 = sm.add_constant(X) # Need this line to add a constant (intercept) to the linear model\n",
    "ols_reg = sm.OLS(y, X1)\n",
    "res = ols_reg.fit()\n",
    "print(res.summary())\n",
    "\n",
    "# exactly same results as sklearn"
   ]
  },
  {
   "cell_type": "markdown",
   "metadata": {},
   "source": [
    "## Polynomial Regression\n",
    "\n",
    "Polynomial Regression can fit non-linear data to a linear model by adding powers of each feature as new features and then train a linear model on the extended set of features."
   ]
  },
  {
   "cell_type": "code",
   "execution_count": 14,
   "metadata": {},
   "outputs": [
    {
     "data": {
      "text/plain": [
       "[<matplotlib.lines.Line2D at 0x18922ffed90>]"
      ]
     },
     "execution_count": 14,
     "metadata": {},
     "output_type": "execute_result"
    },
    {
     "data": {
      "image/png": "[encoded data removed]",
      "text/plain": [
       "<Figure size 576x396 with 1 Axes>"
      ]
     },
     "metadata": {},
     "output_type": "display_data"
    }
   ],
   "source": [
    "# generate some non-linear data\n",
    "np.random.seed(42)\n",
    "m = 100\n",
    "X = 6 * np.random.rand(m, 1) - 3\n",
    "y = 1 + 2* X + 3 * X**2 + np.random.randn(m, 1)  # the \"real\" function is y = 1 + 2*x + 3*x^2\n",
    "\n",
    "fig, ax = plt.subplots()\n",
    "ax.plot(X, y, \".\")"
   ]
  },
  {
   "cell_type": "code",
   "execution_count": 15,
   "metadata": {},
   "outputs": [
    {
     "name": "stdout",
     "output_type": "stream",
     "text": [
      "[[ 2  7]\n",
      " [ 3 11]\n",
      " [ 5 13]]\n",
      "[[  2.   7.   4.  14.  49.]\n",
      " [  3.  11.   9.  33. 121.]\n",
      " [  5.  13.  25.  65. 169.]]\n",
      "[[2.000e+00 7.000e+00 4.000e+00 1.400e+01 4.900e+01 8.000e+00 2.800e+01\n",
      "  9.800e+01 3.430e+02]\n",
      " [3.000e+00 1.100e+01 9.000e+00 3.300e+01 1.210e+02 2.700e+01 9.900e+01\n",
      "  3.630e+02 1.331e+03]\n",
      " [5.000e+00 1.300e+01 2.500e+01 6.500e+01 1.690e+02 1.250e+02 3.250e+02\n",
      "  8.450e+02 2.197e+03]]\n"
     ]
    }
   ],
   "source": [
    "from sklearn.preprocessing import PolynomialFeatures\n",
    "# a is a column vector representing two features x1, x2\n",
    "a = np.array([[2, 3, 5], [7, 11, 13] ]).T \n",
    "print(a)\n",
    "\n",
    "# degree=2 added x1*x2, x1^2, x2^2\n",
    "poly_features_2 = PolynomialFeatures(degree=2, include_bias=False)\n",
    "b = poly_features_2.fit_transform(a)\n",
    "print(b)\n",
    "# degree=3 added x1*x2, x1^2, x2^2, x1^2*2, x2^2*x1, x1^3, x2^3\n",
    "poly_features_3 = PolynomialFeatures(degree=3, include_bias=False)\n",
    "c = poly_features_3.fit_transform(a)\n",
    "print(c)"
   ]
  },
  {
   "cell_type": "code",
   "execution_count": 16,
   "metadata": {},
   "outputs": [
    {
     "name": "stdout",
     "output_type": "stream",
     "text": [
      "[[-0.75275929]\n",
      " [ 2.70428584]\n",
      " [ 1.39196365]]\n"
     ]
    }
   ],
   "source": [
    "print(X[:3])"
   ]
  },
  {
   "cell_type": "code",
   "execution_count": 17,
   "metadata": {},
   "outputs": [
    {
     "name": "stdout",
     "output_type": "stream",
     "text": [
      "[[-0.75275929  0.56664654]\n",
      " [ 2.70428584  7.3131619 ]\n",
      " [ 1.39196365  1.93756281]]\n"
     ]
    }
   ],
   "source": [
    "# add polynomial features for X in the plot\n",
    "X_poly = poly_features_2.fit_transform(X)\n",
    "print(X_poly[:3])  # X, X^2"
   ]
  },
  {
   "cell_type": "code",
   "execution_count": 18,
   "metadata": {},
   "outputs": [
    {
     "name": "stdout",
     "output_type": "stream",
     "text": [
      "[0.78134581] [[1.93366893 3.06456263]]\n"
     ]
    }
   ],
   "source": [
    "lin_reg = LinearRegression()\n",
    "lin_reg.fit(X_poly, y)\n",
    "print(lin_reg.intercept_, lin_reg.coef_)"
   ]
  },
  {
   "cell_type": "code",
   "execution_count": 19,
   "metadata": {},
   "outputs": [
    {
     "name": "stdout",
     "output_type": "stream",
     "text": [
      "0.7813458120291479 1.933668932253607 3.0645626336170744\n"
     ]
    }
   ],
   "source": [
    "a0 = lin_reg.intercept_[0]\n",
    "a1 = lin_reg.coef_[0,0]\n",
    "a2 = lin_reg.coef_[0,1]\n",
    "print(a0,a1,a2)"
   ]
  },
  {
   "cell_type": "code",
   "execution_count": 20,
   "metadata": {},
   "outputs": [],
   "source": [
    "y_pred = a0 + a1*X + a2*X**2"
   ]
  },
  {
   "cell_type": "code",
   "execution_count": 21,
   "metadata": {
    "scrolled": true
   },
   "outputs": [
    {
     "data": {
      "text/plain": [
       "[<matplotlib.lines.Line2D at 0x18923061ee0>]"
      ]
     },
     "execution_count": 21,
     "metadata": {},
     "output_type": "execute_result"
    },
    {
     "data": {
      "image/png": "[encoded data removed]",
      "text/plain": [
       "<Figure size 576x396 with 1 Axes>"
      ]
     },
     "metadata": {},
     "output_type": "display_data"
    }
   ],
   "source": [
    "# the \"real\" function is y = 1 + 2*x + 3*x^2\n",
    "# the fitted model: y = 0.781 + 1.934*X + 3.065*X^2 - pretty close\n",
    "fig, ax = plt.subplots()\n",
    "ax.plot(X, y, \".\")\n",
    "ax.plot(X, y_pred, \"r.\")"
   ]
  },
  {
   "cell_type": "markdown",
   "metadata": {},
   "source": [
    "## Log Transformation"
   ]
  },
  {
   "cell_type": "code",
   "execution_count": 22,
   "metadata": {},
   "outputs": [
    {
     "data": {
      "text/plain": [
       "[<matplotlib.lines.Line2D at 0x189230c46a0>]"
      ]
     },
     "execution_count": 22,
     "metadata": {},
     "output_type": "execute_result"
    },
    {
     "data": {
      "image/png": "[encoded data removed]",
      "text/plain": [
       "<Figure size 576x396 with 1 Axes>"
      ]
     },
     "metadata": {},
     "output_type": "display_data"
    }
   ],
   "source": [
    "# generate some non-linear data\n",
    "np.random.seed(12)\n",
    "m = 100\n",
    "X = np.random.rand(m, 1)*2 # generate random numbers between 0 and 2. \n",
    "y = np.exp(1 + 2*X)  + np.random.randn(m, 1)  # the \"real\" function is y = e^(1 + 2*x)\n",
    "\n",
    "fig, ax = plt.subplots()\n",
    "ax.plot(X, y, \".\")"
   ]
  },
  {
   "cell_type": "code",
   "execution_count": 23,
   "metadata": {},
   "outputs": [
    {
     "name": "stdout",
     "output_type": "stream",
     "text": [
      "[[0]\n",
      " [1]\n",
      " [4]]\n",
      "[[0.        ]\n",
      " [0.69314718]\n",
      " [1.60943791]]\n"
     ]
    }
   ],
   "source": [
    "from sklearn.preprocessing import FunctionTransformer\n",
    "# Transform a variable x using function log(1 + x)\n",
    "log_transformer = FunctionTransformer(np.log1p)\n",
    "a = np.array([[0], [1], [4]])\n",
    "a_new = log_transformer.transform(a)\n",
    "print(a)\n",
    "print(a_new)"
   ]
  },
  {
   "cell_type": "code",
   "execution_count": 24,
   "metadata": {},
   "outputs": [
    {
     "name": "stdout",
     "output_type": "stream",
     "text": [
      "[[ 6.44392545]\n",
      " [50.78005844]\n",
      " [ 9.26450025]\n",
      " [24.62412344]\n",
      " [ 2.42007296]]\n",
      "[[2.00739832]\n",
      " [3.9470051 ]\n",
      " [2.32869136]\n",
      " [3.24353423]\n",
      " [1.22966188]]\n"
     ]
    }
   ],
   "source": [
    "log_y = log_transformer.transform(y)\n",
    "print(y[:5])\n",
    "print(log_y[:5])"
   ]
  },
  {
   "cell_type": "code",
   "execution_count": 25,
   "metadata": {
    "scrolled": false
   },
   "outputs": [
    {
     "data": {
      "text/plain": [
       "[<matplotlib.lines.Line2D at 0x1892312a250>]"
      ]
     },
     "execution_count": 25,
     "metadata": {},
     "output_type": "execute_result"
    },
    {
     "data": {
      "image/png": "[encoded data removed]",
      "text/plain": [
       "<Figure size 576x396 with 1 Axes>"
      ]
     },
     "metadata": {},
     "output_type": "display_data"
    }
   ],
   "source": [
    "fig, ax = plt.subplots()\n",
    "ax.plot(X, log_y, \".\")"
   ]
  },
  {
   "cell_type": "code",
   "execution_count": 26,
   "metadata": {},
   "outputs": [
    {
     "name": "stdout",
     "output_type": "stream",
     "text": [
      "[1.10810736] [[1.94320646]]\n"
     ]
    }
   ],
   "source": [
    "lin_reg = LinearRegression()\n",
    "lin_reg.fit(X, log_y)\n",
    "print(lin_reg.intercept_, lin_reg.coef_)"
   ]
  },
  {
   "cell_type": "code",
   "execution_count": 27,
   "metadata": {},
   "outputs": [
    {
     "data": {
      "text/plain": [
       "(1.1081073623725606, 1.9432064635549415)"
      ]
     },
     "execution_count": 27,
     "metadata": {},
     "output_type": "execute_result"
    }
   ],
   "source": [
    "a0 = lin_reg.intercept_[0]\n",
    "a1 = lin_reg.coef_[0,0]\n",
    "(a0,a1)"
   ]
  },
  {
   "cell_type": "code",
   "execution_count": 28,
   "metadata": {},
   "outputs": [],
   "source": [
    "# predicted values of y. \n",
    "# make sure to transform the value using function exp(x) - 1\n",
    "y_pred = np.expm1(a0 + a1*X)"
   ]
  },
  {
   "cell_type": "code",
   "execution_count": 29,
   "metadata": {},
   "outputs": [
    {
     "data": {
      "text/plain": [
       "[<matplotlib.lines.Line2D at 0x189231849a0>]"
      ]
     },
     "execution_count": 29,
     "metadata": {},
     "output_type": "execute_result"
    },
    {
     "data": {
      "image/png": "[encoded data removed]",
      "text/plain": [
       "<Figure size 576x396 with 1 Axes>"
      ]
     },
     "metadata": {},
     "output_type": "display_data"
    }
   ],
   "source": [
    "# the \"real\" function is y = e^(1 + 2*x)\n",
    "# the fitted model: y = e^(a0 + a1*x) \n",
    "fig, ax = plt.subplots()\n",
    "ax.plot(X, y, \".\")\n",
    "ax.plot(X, y_pred, \"r.\")"
   ]
  },
  {
   "cell_type": "code",
   "execution_count": null,
   "metadata": {},
   "outputs": [],
   "source": []
  }
 ],
 "metadata": {
  "kernelspec": {
   "display_name": "Python 3",
   "language": "python",
   "name": "python3"
  },
  "language_info": {
   "codemirror_mode": {
    "name": "ipython",
    "version": 3
   },
   "file_extension": ".py",
   "mimetype": "text/x-python",
   "name": "python",
   "nbconvert_exporter": "python",
   "pygments_lexer": "ipython3",
   "version": "3.8.5"
  }
 },
 "nbformat": 4,
 "nbformat_minor": 4
}
