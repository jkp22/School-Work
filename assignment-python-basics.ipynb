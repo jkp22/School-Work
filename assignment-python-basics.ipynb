{
 "cells": [
  {
   "cell_type": "code",
   "execution_count": 1,
   "metadata": {},
   "outputs": [],
   "source": [
    "sentence = \"Talk is cheap. Show me the code - Linus Torvalds\""
   ]
  },
  {
   "cell_type": "markdown",
   "metadata": {},
   "source": [
    "# Assignment: Python Basics\n",
    "We assume you are using Python 3 in this course."
   ]
  },
  {
   "cell_type": "markdown",
   "metadata": {},
   "source": [
    "## Question 1\n",
    "\n",
    "You've learned different data types in Python. Now, let's test your knowledge. \n",
    "\n",
    "You need to use to format strings. \n",
    "\n",
    "Write a program using the \"f-strings\" (https://realpython.com/python-f-strings/) and user input function to convert temperatures from Fahrenheit to Celsius. [Formula: Celsius = (Fahrenheit – 32)*5/9]\n",
    "\n",
    "Hint: you may need int() or float() function\n",
    "\n",
    "An example program output:\n",
    "```\n",
    "Please enter the temperature in Celcius: 140\n",
    "140F is 60.0 in Celsius. \n",
    "```"
   ]
  },
  {
   "cell_type": "code",
   "execution_count": 2,
   "metadata": {
    "scrolled": true
   },
   "outputs": [
    {
     "name": "stdout",
     "output_type": "stream",
     "text": [
      "What's your name?  kye\n",
      "Welcome,  kye!\n"
     ]
    }
   ],
   "source": [
    "# an example of f-strings and user input function\n",
    "username = input('What\\'s your name? ')\n",
    "print(f'Welcome, {username}!')"
   ]
  },
  {
   "cell_type": "code",
   "execution_count": 3,
   "metadata": {},
   "outputs": [
    {
     "name": "stdout",
     "output_type": "stream",
     "text": [
      "Please enter the temperature in Fahrenheit: 23\n",
      "23F is -5.0 in Celsius.\n"
     ]
    }
   ],
   "source": [
    "# complete your program here\n",
    "f = input('Please enter the temperature in Fahrenheit: ')\n",
    "if f.isdigit():\n",
    "    f = int(f)\n",
    "    c = (f - 32)*(5/9)\n",
    "    print(f'{f}F is {c} in Celsius.')\n",
    "else:\n",
    "    print(f'{f}F is not a vaild input')"
   ]
  },
  {
   "cell_type": "markdown",
   "metadata": {},
   "source": [
    "Now, do the oppsoite by convert temperatures from Celsius to Fahrenheit.\n",
    "Another example:\n",
    "```\n",
    "Please enter the temperature in Celcius: 60\n",
    "60C is 140.0 in Fahrenheit. \n",
    "```"
   ]
  },
  {
   "cell_type": "code",
   "execution_count": 4,
   "metadata": {},
   "outputs": [
    {
     "name": "stdout",
     "output_type": "stream",
     "text": [
      "Please enter the tempature in Celcius: 23\n",
      "23C is 73.4 in Fahrenheit.\n"
     ]
    }
   ],
   "source": [
    "# complete your program here\n",
    "c = input('Please enter the tempature in Celcius: ')\n",
    "f = (int(c)/(5/9))+32\n",
    "print(f'{c}C is {f} in Fahrenheit.')"
   ]
  },
  {
   "cell_type": "markdown",
   "metadata": {},
   "source": [
    "Next, let's make it a bit challenging by adding conditional statements to convert temperatures to and from Celsius, Fahrenheit. [Formula: Celsius/5 = (Fahrenheit – 32)/9]\n",
    "\n",
    "An example program output:\n",
    "```\n",
    "Please enter the temperature: 60\n",
    "Is this in Celsius or Fahrenheit? C\n",
    "60C is 140 in Fahrenheit\n",
    "```\n",
    "\n",
    "Another example:\n",
    "```\n",
    "Please enter the temperature: 140\n",
    "Is this Celsius or Fahrenheit? F\n",
    "140F is 60 in Celsius\n",
    "```"
   ]
  },
  {
   "cell_type": "code",
   "execution_count": 5,
   "metadata": {},
   "outputs": [
    {
     "name": "stdout",
     "output_type": "stream",
     "text": [
      "Please enter the temperature: 23\n",
      "Is this in Celsius or Fahrenheit? 23\n"
     ]
    },
    {
     "ename": "NameError",
     "evalue": "name 'message' is not defined",
     "output_type": "error",
     "traceback": [
      "\u001b[1;31m---------------------------------------------------------------------------\u001b[0m",
      "\u001b[1;31mNameError\u001b[0m                                 Traceback (most recent call last)",
      "\u001b[1;32m<ipython-input-5-3aa10c0b7c20>\u001b[0m in \u001b[0;36m<module>\u001b[1;34m\u001b[0m\n\u001b[0;32m      9\u001b[0m     \u001b[0mtemp\u001b[0m \u001b[1;33m=\u001b[0m \u001b[1;33m(\u001b[0m\u001b[0md\u001b[0m \u001b[1;33m-\u001b[0m \u001b[1;36m32\u001b[0m\u001b[1;33m)\u001b[0m\u001b[1;33m*\u001b[0m\u001b[1;33m(\u001b[0m\u001b[1;36m5\u001b[0m\u001b[1;33m/\u001b[0m\u001b[1;36m9\u001b[0m\u001b[1;33m)\u001b[0m\u001b[1;33m\u001b[0m\u001b[1;33m\u001b[0m\u001b[0m\n\u001b[0;32m     10\u001b[0m     \u001b[0mmessage\u001b[0m \u001b[1;33m=\u001b[0m \u001b[1;34mf'{d}F is {temp} in Celsius.'\u001b[0m\u001b[1;33m\u001b[0m\u001b[1;33m\u001b[0m\u001b[0m\n\u001b[1;32m---> 11\u001b[1;33m \u001b[0mmessage\u001b[0m\u001b[1;33m\u001b[0m\u001b[1;33m\u001b[0m\u001b[0m\n\u001b[0m",
      "\u001b[1;31mNameError\u001b[0m: name 'message' is not defined"
     ]
    }
   ],
   "source": [
    "# complete your program here\n",
    "d = input('Please enter the temperature: ')\n",
    "m = input('Is this in Celsius or Fahrenheit? ')\n",
    "d = int(d)\n",
    "if m.upper()=='C':\n",
    "    temp = (d/(5/9))+32\n",
    "    message = f'{d}C is {temp} in Fahrenheit.'\n",
    "if m.upper()=='F':\n",
    "    temp = (d - 32)*(5/9)\n",
    "    message = f'{d}F is {temp} in Celsius.'\n",
    "message"
   ]
  },
  {
   "cell_type": "markdown",
   "metadata": {},
   "source": [
    "## Question 2\n",
    "\n",
    "Have some fun with strings."
   ]
  },
  {
   "cell_type": "code",
   "execution_count": 6,
   "metadata": {},
   "outputs": [],
   "source": [
    "sentence = \"Talk is cheap. Show me the code - Linus Torvalds\""
   ]
  },
  {
   "cell_type": "code",
   "execution_count": 7,
   "metadata": {},
   "outputs": [
    {
     "name": "stdout",
     "output_type": "stream",
     "text": [
      "48\n"
     ]
    }
   ],
   "source": [
    "# Find the length of this sentence.\n",
    "print(len(sentence))"
   ]
  },
  {
   "cell_type": "code",
   "execution_count": 8,
   "metadata": {},
   "outputs": [
    {
     "data": {
      "text/plain": [
       "'talk is cheap. show me the code - linus torvalds'"
      ]
     },
     "execution_count": 8,
     "metadata": {},
     "output_type": "execute_result"
    }
   ],
   "source": [
    "# Convert the whole string to lower case. \n",
    "sentence.lower()"
   ]
  },
  {
   "cell_type": "code",
   "execution_count": 10,
   "metadata": {},
   "outputs": [
    {
     "data": {
      "text/plain": [
       "'heap. Show me the code - Linus'"
      ]
     },
     "execution_count": 10,
     "metadata": {},
     "output_type": "execute_result"
    }
   ],
   "source": [
    "# Extract a substring from the 10th character from left to the 10th character from right.\n",
    "sentence[9:-9]"
   ]
  },
  {
   "cell_type": "code",
   "execution_count": null,
   "metadata": {},
   "outputs": [],
   "source": [
    "# Split the sentence into a list of substrings by space ' '. \n",
    "sentence.split()"
   ]
  },
  {
   "cell_type": "code",
   "execution_count": null,
   "metadata": {},
   "outputs": [],
   "source": [
    "# Given the sentence, output a list of words in lowercase (without punctuations). \n",
    "sentence.replace('.','').replace('-','').lower().split()\n"
   ]
  },
  {
   "cell_type": "code",
   "execution_count": 11,
   "metadata": {},
   "outputs": [
    {
     "data": {
      "text/plain": [
       "13"
      ]
     },
     "execution_count": 11,
     "metadata": {},
     "output_type": "execute_result"
    }
   ],
   "source": [
    "# Count the total number of vowels in the sentence.\n",
    "# a e i o u\n",
    "# sentence.count('a') + ...\n",
    "vows = 0\n",
    "for c in sentence.lower():\n",
    "    if c in 'aeiou':\n",
    "        vows += 1\n",
    "vows"
   ]
  },
  {
   "cell_type": "code",
   "execution_count": null,
   "metadata": {},
   "outputs": [],
   "source": [
    "# Find the positions (indexes) of all vowels in the sentence. \n",
    "vow_index = []\n",
    "for i in range(len(sentence)): \n",
    "    if sentence.lower()[i] in 'aeiou':\n",
    "        vow_index.append(i)\n",
    "        \n",
    "vow_index"
   ]
  },
  {
   "cell_type": "code",
   "execution_count": null,
   "metadata": {},
   "outputs": [],
   "source": []
  },
  {
   "cell_type": "markdown",
   "metadata": {},
   "source": [
    "## Question 3\n",
    "\n",
    "Review list comprehension if needed: https://realpython.com/list-comprehension-python/\n",
    "\n",
    "The formula for list comprehension is: `new_list = [expression for member in iterable (if conditional)]`\n",
    "\n",
    "You need to do the following:"
   ]
  },
  {
   "cell_type": "code",
   "execution_count": null,
   "metadata": {},
   "outputs": [],
   "source": [
    "# Use a loop to create a list of 5 cube numbers and print the list：[0, 1, 8, 27, 64]\n",
    "cubes = []\n",
    "for i in range(5):\n",
    "    cubes.append(i**3)\n",
    "cubes"
   ]
  },
  {
   "cell_type": "code",
   "execution_count": null,
   "metadata": {},
   "outputs": [],
   "source": [
    "# Use list comprehension to create the same list\n",
    "cubes = [i**3 for i in range(5)]\n",
    "cubes"
   ]
  },
  {
   "cell_type": "code",
   "execution_count": null,
   "metadata": {},
   "outputs": [],
   "source": [
    "# Find the postions (indexes) of all vowels in a sentence using list comprehension\n",
    "sentence = \"Toto, I\\'ve a feeling we\\'re not in Kansas anymore. - THE WIZARD OF OZ (1939)\"\n",
    "vow_index = []\n",
    "count = 0\n",
    "for i in range(len(sentence)): \n",
    "    if sentence.lower()[i] in 'aeiou':\n",
    "        vow_index.append(i)\n",
    "vow_index"
   ]
  },
  {
   "cell_type": "code",
   "execution_count": null,
   "metadata": {},
   "outputs": [],
   "source": [
    "# Use a loop to create a list of first n numbers in the Fibonacci sequence\n",
    "# [0, 1, 1, 2, 3, 5, 8, ...] \n",
    "fibonacci = []\n",
    "n = input('How many numbers do you want? ')\n",
    "# add your code here\n",
    "n = int(n)\n",
    "for i in range(n):\n",
    "    if i ==0:\n",
    "        \n",
    "        fibonacci.append(i)\n",
    "        i += 1\n",
    "    elif i==1:\n",
    "        \n",
    "        fibonacci.append(i)\n",
    "        fibonacci.append(i)\n",
    "        i+= 2\n",
    "        \n",
    "    else:\n",
    "        i = fibonacci[-2] + fibonacci[-1]\n",
    "        fibonacci.append(i)\n",
    "        \n",
    "\n",
    "print(fibonacci)\n",
    "        \n"
   ]
  },
  {
   "cell_type": "markdown",
   "metadata": {},
   "source": [
    "## Question 4\n",
    "\n",
    "This question is about Python dictionary.\n",
    "\n",
    "|Vaccine|Efficacy|\n",
    "|-----|-------|\n",
    "|Pfizer|95%|\n",
    "|Moderna|95%|\n",
    "|AstraZeneca|72%|\n",
    "|Johnson & Johnson|66%|\n",
    "\n",
    "Source: https://www.biospace.com/article/comparing-covid-19-vaccines-pfizer-biontech-moderna-astrazeneca-oxford-j-and-j-russia-s-sputnik-v/"
   ]
  },
  {
   "cell_type": "code",
   "execution_count": 12,
   "metadata": {},
   "outputs": [
    {
     "data": {
      "text/plain": [
       "{'Pfizer': 0.95,\n",
       " 'Moderna': 0.95,\n",
       " 'AstraZeneca': 0.72,\n",
       " 'Johnson & Johnson': 0.66}"
      ]
     },
     "execution_count": 12,
     "metadata": {},
     "output_type": "execute_result"
    }
   ],
   "source": [
    "# Create a dictionary to save the data of vaccines and their efficacy. (save 95% as 0.95)\n",
    "v_dict = {\n",
    "    'Pfizer':.95,\n",
    "    'Moderna':.95,\n",
    "    'AstraZeneca':.72,\n",
    "    'Johnson & Johnson':.66,\n",
    "}\n",
    "v_dict"
   ]
  },
  {
   "cell_type": "code",
   "execution_count": 13,
   "metadata": {},
   "outputs": [
    {
     "name": "stdout",
     "output_type": "stream",
     "text": [
      "Which vaccine? sd\n"
     ]
    },
    {
     "ename": "KeyError",
     "evalue": "'sd'",
     "output_type": "error",
     "traceback": [
      "\u001b[1;31m---------------------------------------------------------------------------\u001b[0m",
      "\u001b[1;31mKeyError\u001b[0m                                  Traceback (most recent call last)",
      "\u001b[1;32m<ipython-input-13-0037a18ee829>\u001b[0m in \u001b[0;36m<module>\u001b[1;34m\u001b[0m\n\u001b[0;32m      1\u001b[0m \u001b[0mv\u001b[0m \u001b[1;33m=\u001b[0m \u001b[0minput\u001b[0m\u001b[1;33m(\u001b[0m\u001b[1;34m'Which vaccine? '\u001b[0m\u001b[1;33m)\u001b[0m\u001b[1;33m\u001b[0m\u001b[1;33m\u001b[0m\u001b[0m\n\u001b[0;32m      2\u001b[0m \u001b[1;31m# print the efficacy of the vaccine\u001b[0m\u001b[1;33m\u001b[0m\u001b[1;33m\u001b[0m\u001b[1;33m\u001b[0m\u001b[0m\n\u001b[1;32m----> 3\u001b[1;33m \u001b[0mv_dict\u001b[0m\u001b[1;33m[\u001b[0m\u001b[1;34mf'{v}'\u001b[0m\u001b[1;33m]\u001b[0m\u001b[1;33m\u001b[0m\u001b[1;33m\u001b[0m\u001b[0m\n\u001b[0m",
      "\u001b[1;31mKeyError\u001b[0m: 'sd'"
     ]
    }
   ],
   "source": [
    "v = input('Which vaccine? ')\n",
    "# print the efficacy of the vaccine\n",
    "v_dict[f'{v}']"
   ]
  },
  {
   "cell_type": "code",
   "execution_count": 14,
   "metadata": {},
   "outputs": [
    {
     "data": {
      "text/plain": [
       "{'Pfizer': 0.95,\n",
       " 'Moderna': 0.95,\n",
       " 'AstraZeneca': 0.72,\n",
       " 'Johnson & Johnson': 0.66,\n",
       " 'Sputnik V': 0.914}"
      ]
     },
     "execution_count": 14,
     "metadata": {},
     "output_type": "execute_result"
    }
   ],
   "source": [
    "# add another vaccine 'Sputnik V' with 91.4% efficacy rate to the dictionary\n",
    "v_dict['Sputnik V'] = .914\n",
    "v_dict"
   ]
  },
  {
   "cell_type": "code",
   "execution_count": 15,
   "metadata": {},
   "outputs": [],
   "source": [
    "# add another vaccine 'Sinovac' with 50.38% efficacy rate to the dictionary\n",
    "v_dict['Sinovac'] = .5038"
   ]
  },
  {
   "cell_type": "code",
   "execution_count": 16,
   "metadata": {},
   "outputs": [
    {
     "name": "stdout",
     "output_type": "stream",
     "text": [
      "AstraZeneca 0.72\n",
      "Johnson & Johnson 0.66\n",
      "Sinovac 0.5038\n"
     ]
    }
   ],
   "source": [
    "# Print vaccines with efficacy lower than 90%.\n",
    "for v in v_dict:\n",
    "    p = v_dict[v]\n",
    "    if p < .9:\n",
    "        print(v, p)\n",
    "    "
   ]
  },
  {
   "cell_type": "code",
   "execution_count": 17,
   "metadata": {},
   "outputs": [],
   "source": [
    "# delete the Sinovac vaccine from the dictionary. \n",
    "del v_dict['Sinovac']\n"
   ]
  },
  {
   "cell_type": "code",
   "execution_count": 18,
   "metadata": {},
   "outputs": [
    {
     "name": "stdout",
     "output_type": "stream",
     "text": [
      "{'t': 26, 'h': 27, 'e': 28, 'q': 4, 'u': 18, 'i': 6, 'c': 7, 'k': 8, 'b': 9, 'r': 25, 'o': 34, 'w': 12, 'n': 13, 'f': 14, 'x': 16, 'j': 17, 'm': 19, 'p': 20, 's': 21, 'v': 23, 'l': 29, 'a': 30, 'z': 31, 'y': 32, 'd': 33, 'g': 35}\n"
     ]
    }
   ],
   "source": [
    "#Count the occurrence of each alphabet (no space ' ') in this sentence. \n",
    "sentence = 'the quick brown fox jumps over the lazy dog'\n",
    "sentence = sentence.replace(' ','')\n",
    "\n",
    "# Save the result in a dictionary \n",
    "ch_dict = {} \n",
    "# Use a loop to iterate all characters\n",
    "# add your code here\n",
    "count = 0\n",
    "for c in sentence:\n",
    "    \n",
    "\n",
    "    count += 1\n",
    "    ch_dict[c] = count\n",
    "\n",
    "# print the dictionary\n",
    "print(ch_dict)\n"
   ]
  },
  {
   "cell_type": "markdown",
   "metadata": {},
   "source": [
    "## Quesion 5\n",
    "\n",
    "Next, we will practice with Numpy arrays.  "
   ]
  },
  {
   "cell_type": "code",
   "execution_count": null,
   "metadata": {},
   "outputs": [],
   "source": [
    "import numpy as np"
   ]
  },
  {
   "cell_type": "code",
   "execution_count": null,
   "metadata": {},
   "outputs": [],
   "source": [
    "# create a 1-D array of first 20 positive even numbers (starting with 2)\n",
    "np.arange(2,42,2)"
   ]
  },
  {
   "cell_type": "code",
   "execution_count": null,
   "metadata": {},
   "outputs": [],
   "source": [
    "# create a 1-D array of first 20 positive odd numbers (starting with 1)\n",
    "np.arange(1,41,2)"
   ]
  },
  {
   "cell_type": "code",
   "execution_count": null,
   "metadata": {},
   "outputs": [],
   "source": [
    "# create a 10x10 array in the following format: \n",
    "# first row: [0,1,...,9]\n",
    "# second row: [10,11,...,19]\n",
    "# ...\n",
    "# tenth row: [90,91,...,99]\n",
    "np.array([range(i, i + 3) for i in [2, 4, 6]])"
   ]
  },
  {
   "cell_type": "code",
   "execution_count": null,
   "metadata": {},
   "outputs": [],
   "source": [
    "# Create a 10x10 array of normally distributed random values\n",
    "# with mean 0 and standard deviation 1\n",
    "M = np.random.normal(0, 1, (10,10))\n",
    "M"
   ]
  },
  {
   "cell_type": "code",
   "execution_count": null,
   "metadata": {},
   "outputs": [],
   "source": [
    "M.shape[1]"
   ]
  },
  {
   "cell_type": "code",
   "execution_count": null,
   "metadata": {},
   "outputs": [],
   "source": [
    "count = 0\n",
    "# Count the numbers in M with an absolute value greater than 1.\n",
    "for i in range(M.shape[0]):\n",
    "    for j in range(M.shape[1]):\n",
    "        if np.abs(M[i,j]) > 1:\n",
    "            count += 1\n",
    "count"
   ]
  },
  {
   "cell_type": "code",
   "execution_count": null,
   "metadata": {},
   "outputs": [],
   "source": [
    "# Reference: https://numpy.org/doc/stable/reference/random/generated/numpy.random.randint.html\n",
    "\n",
    "# Input the number of rows (input an integer >= 3)\n",
    "r = input('Row count: ')\n",
    "\n",
    "# Input the number of rows (input another integer >= 3)\n",
    "c = input('column count: ')\n",
    "\n",
    "# Hint: you may want to use the function int().\n",
    "r = int(r)\n",
    "c = int(c)\n",
    "# Create a r x c array of random integers between 10 (inclusive) and 20 (exclusive).\n",
    "arr = np.random.randint(10, size=(r,c))\n",
    "arr += 10\n",
    "arr"
   ]
  },
  {
   "cell_type": "code",
   "execution_count": null,
   "metadata": {},
   "outputs": [],
   "source": [
    "# output the element in the first row and the third column\n",
    "arr[0,2]"
   ]
  },
  {
   "cell_type": "code",
   "execution_count": null,
   "metadata": {},
   "outputs": [],
   "source": [
    "# output the element in the second row and the last column\n",
    "arr[1,-1]"
   ]
  },
  {
   "cell_type": "code",
   "execution_count": null,
   "metadata": {},
   "outputs": [],
   "source": [
    "# output the second row of the array\n",
    "arr[1]"
   ]
  },
  {
   "cell_type": "code",
   "execution_count": null,
   "metadata": {},
   "outputs": [],
   "source": [
    "# output the second last row of the array\n",
    "arr[-2]"
   ]
  },
  {
   "cell_type": "code",
   "execution_count": null,
   "metadata": {},
   "outputs": [],
   "source": [
    "# output the second column of the array\n",
    "arr[:,1]"
   ]
  },
  {
   "cell_type": "code",
   "execution_count": null,
   "metadata": {},
   "outputs": [],
   "source": [
    "# output the second last column of the array\n",
    "arr[:,-2]"
   ]
  },
  {
   "cell_type": "code",
   "execution_count": null,
   "metadata": {},
   "outputs": [],
   "source": [
    "# output the upper-left 3x3 sub-array\n",
    "arr[:3,:3]"
   ]
  },
  {
   "cell_type": "code",
   "execution_count": null,
   "metadata": {},
   "outputs": [],
   "source": [
    "# output the bottom-left 3x3 sub-array\n",
    "arr[2:,:3]"
   ]
  },
  {
   "cell_type": "code",
   "execution_count": null,
   "metadata": {},
   "outputs": [],
   "source": [
    "# output the upper-right 3x3 sub-array\n",
    "arr[:3,3:]"
   ]
  },
  {
   "cell_type": "code",
   "execution_count": null,
   "metadata": {},
   "outputs": [],
   "source": [
    "# output the bottom-right 3x3 sub-array\n",
    "arr[3:,-3:]"
   ]
  },
  {
   "cell_type": "code",
   "execution_count": null,
   "metadata": {},
   "outputs": [],
   "source": [
    "# Create a 1-D array from 1 to 50 (inclusive)\n",
    "A = np.arange(1,51)\n",
    "grid = A.reshape(5,10)\n",
    "# Reshape A to a 5x10 array in the following format: \n",
    "# first row: [1,...,10]\n",
    "# second row: [11,...,20]\n",
    "# ...\n",
    "# fifth row: [41,...,50]\n",
    "grid"
   ]
  },
  {
   "cell_type": "code",
   "execution_count": null,
   "metadata": {},
   "outputs": [],
   "source": [
    "# add a row [51,...,60] to A\n",
    "B = np.arange(51,61)\n",
    "grid = np.concatenate([A,B])\n",
    "x = grid.reshape((6,10))\n",
    "x"
   ]
  },
  {
   "cell_type": "code",
   "execution_count": null,
   "metadata": {},
   "outputs": [],
   "source": [
    "# split the new A (6x10) to two 3x10 arrays A1 and A2\n",
    "A = grid\n",
    "A1, A2 = np.split(A, [30])\n",
    "A1 = A1.reshape((3,10))\n",
    "A2 = A2.reshape((3,10))\n",
    "print(A1, A2)"
   ]
  },
  {
   "cell_type": "code",
   "execution_count": null,
   "metadata": {},
   "outputs": [],
   "source": [
    "# Add 10 to each element of A\n",
    "np.add(A1, 10)\n",
    "np.add(A2, 10)\n"
   ]
  },
  {
   "cell_type": "code",
   "execution_count": null,
   "metadata": {},
   "outputs": [],
   "source": [
    "# Calculate the square root of each element in A\n",
    "np.sqrt(A1)\n",
    "np.sqrt(A2)"
   ]
  },
  {
   "cell_type": "code",
   "execution_count": null,
   "metadata": {},
   "outputs": [],
   "source": [
    "# Above, we have created a 10x10 array M of normally distributed random values\n",
    "# with mean 0 and standard deviation 1\n",
    "M.shape"
   ]
  },
  {
   "cell_type": "code",
   "execution_count": null,
   "metadata": {},
   "outputs": [],
   "source": [
    "# Print the mean, standard devietion of all numbers in M\n",
    "print(M.mean())\n",
    "print(M.std())"
   ]
  },
  {
   "cell_type": "code",
   "execution_count": null,
   "metadata": {},
   "outputs": [],
   "source": [
    "# Print the maximumn, 3rd quartile, median, 1st quartile, and minimum in M\n",
    "print(np.percentile(M,25))\n",
    "print(np.median(M))\n",
    "print(np.percentile(M,75))"
   ]
  },
  {
   "cell_type": "code",
   "execution_count": null,
   "metadata": {},
   "outputs": [],
   "source": []
  }
 ],
 "metadata": {
  "kernelspec": {
   "display_name": "Python 3",
   "language": "python",
   "name": "python3"
  },
  "language_info": {
   "codemirror_mode": {
    "name": "ipython",
    "version": 3
   },
   "file_extension": ".py",
   "mimetype": "text/x-python",
   "name": "python",
   "nbconvert_exporter": "python",
   "pygments_lexer": "ipython3",
   "version": "3.8.5"
  }
 },
 "nbformat": 4,
 "nbformat_minor": 4
}
